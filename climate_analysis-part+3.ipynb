{
 "cells": [
  {
   "cell_type": "code",
   "execution_count": 1,
   "metadata": {
    "collapsed": true
   },
   "outputs": [],
   "source": [
    "# Python SQL toolkit and Object Relational Mapper\n",
    "import sqlalchemy\n",
    "from sqlalchemy.ext.automap import automap_base\n",
    "from sqlalchemy.orm import Session\n",
    "from sqlalchemy import create_engine"
   ]
  },
  {
   "cell_type": "code",
   "execution_count": 3,
   "metadata": {},
   "outputs": [
    {
     "name": "stderr",
     "output_type": "stream",
     "text": [
      "'/hawaii.sqlite' is not recognized as an internal or external command,\n",
      "operable program or batch file.\n"
     ]
    }
   ],
   "source": [
    "!/hawaii.sqlite ."
   ]
  },
  {
   "cell_type": "code",
   "execution_count": 4,
   "metadata": {
    "collapsed": true
   },
   "outputs": [],
   "source": [
    "engine = create_engine(\"sqlite:///hawaii.sqlite\", echo=False)"
   ]
  },
  {
   "cell_type": "code",
   "execution_count": 5,
   "metadata": {
    "collapsed": true
   },
   "outputs": [],
   "source": [
    "# Reflect Database into ORM classes\n",
    "Base = automap_base()\n",
    "Base.prepare(engine, reflect=True)"
   ]
  },
  {
   "cell_type": "code",
   "execution_count": null,
   "metadata": {
    "collapsed": true
   },
   "outputs": [],
   "source": [
    "#not sure how to make this connection, but here are the SQL queries I would write to pull the specified data\n",
    "\n",
    "# Precipitation Analysis\n",
    "\n",
    "# 1.\tDesign a query to retrieve the last 12 months of precipitation data.\n",
    "SELECT * FROM precipitation_table\n",
    "WHERE DATEDIFF('month',TODAY(),date)<=12\n",
    "\n",
    "# 2.\tSelect only the date and prcp values.\n",
    "SELECT date, prcp FROM precipitation_table\n",
    "WHERE DATEDIFF('month',TODAY(),date)<=12\n",
    "\n",
    "# Station Analysis\n",
    "\n",
    "# 1.\tDesign a query to calculate the total number of stations.\n",
    "SELECT COUNT(DISTINCT station) as [Station_Count] FROM precipitation_table\n",
    "\n",
    "# 2.\tDesign a query to find the most active stations.\n",
    "SELECT COUNT(date) as [Station_Active_Count] FROM precipitation_table\n",
    "GROUP BY station\n",
    "\n",
    "# 3.\tList the stations and observation counts in descending order\n",
    "SELECT station, COUNT(date) as [Station_Active_Count] FROM precipitation_table\n",
    "GROUP BY station ORDER BY [Station_Active_Count] desc\n",
    "\n",
    "# a.\tWhich station has the highest number of observations?\n",
    "(SELECT TOP(1) station, COUNT(date) as [Station_Active_Count] FROM precipitation_table\n",
    "GROUP BY station ORDER BY [Station_Active_Count] desc)\n",
    "\n",
    "# 4.\tDesign a query to retrieve the last 12 months of temperature observation data (tobs).\n",
    "SELECT date, tobs FROM precipitation_table\n",
    "WHERE DATEDIFF('month',TODAY(),date)<=12\n",
    "\n",
    "# a.\tFilter by the station with the highest number of observations.\n",
    "SELECT date, tobs FROM precipitation_table\n",
    "WHERE DATEDIFF('month',TODAY(),date)<=12 AND station IN (SELECT station FROM (SELECT TOP(1) station, COUNT(date) as [Station_Active_Count] FROM precipitation_table\n",
    "GROUP BY station ORDER BY [Station_Active_Count] desc) b)\n",
    "\n",
    "# Temperature Analysis\n",
    "\n",
    "# 1.\tQuery that will take in a custom range and find min, avg and max temperature\n",
    "SELECT MIN(tobs) as [MIN_Temp], AVG(tobs) as [Avg_Temp], MAX(tobs) as [MAX_Temp] FROM precipitation_table\n",
    "WHERE date BETWEEN 2017-05-01 AND 2017-08-01\n",
    "\n",
    "\n",
    "\n"
   ]
  }
 ],
 "metadata": {
  "kernelspec": {
   "display_name": "Python 3",
   "language": "python",
   "name": "python3"
  },
  "language_info": {
   "codemirror_mode": {
    "name": "ipython",
    "version": 3
   },
   "file_extension": ".py",
   "mimetype": "text/x-python",
   "name": "python",
   "nbconvert_exporter": "python",
   "pygments_lexer": "ipython3",
   "version": "3.6.3"
  }
 },
 "nbformat": 4,
 "nbformat_minor": 2
}
